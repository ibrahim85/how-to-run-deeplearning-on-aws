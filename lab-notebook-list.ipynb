{
 "cells": [
  {
   "cell_type": "markdown",
   "metadata": {},
   "source": [
    "# Lab Notebooks"
   ]
  },
  {
   "cell_type": "markdown",
   "metadata": {},
   "source": [
    "## Lab 1 Deploy Deep Learning Environment (20 min)\n",
    "\n",
    "[Preparing DL environment](./lab1/Lab1_Guide.ipynb)"
   ]
  },
  {
   "cell_type": "markdown",
   "metadata": {},
   "source": [
    "## Lab 2 Running a simple Deep Learning model (20 min)\n",
    "\n",
    "2.0 [Running simple DL Models & Deploy distributed deep learning environmen](./lab2/Lab2_0-Guide.ipynb)\n",
    "\n",
    "2.1 [Handwritten Digit Recognition using MXNet](./lab2/Lab2-1-MXNet_Example.ipynb)\n",
    "\n",
    "2.2 [Running DL Model with TensorFlow](./lab2/Lab2-2-TensorFlow_Model.ipynb)\n",
    "\n",
    "2.3 [Setting up a distributed deep learning environment](./lab2/Lab2-3-distributed-deep-learning-cluster.ipynb)"
   ]
  },
  {
   "cell_type": "markdown",
   "metadata": {},
   "source": [
    "## Lab 3 Train Image Classification Models (60 min)\n",
    "\n",
    "3.1 [Train ResNet using MXNet (Single machine)](./lab3/mxnet_resnet_cifar10/mxnet-train-cifar10.py.ipynb)\n",
    "\n",
    "3.2 [Train ResNet using TensorFlow (Single machine)](./lab3/tensorflow_resnet_cifar10/tensorflow-train-cifar10.ipynb)\n",
    "\n",
    "3.3 [Distributed training using MXNet (Multiple machines)](./lab3/distributed-training-mxnet.ipynb)\n",
    "\n",
    "3.4 [Distributed training using TensorFlow (Multiple machines)](./lab3/distributed-training-tensorflow.ipynb)"
   ]
  },
  {
   "cell_type": "markdown",
   "metadata": {},
   "source": [
    "## Lab 4 Deploy inference to AWS Lambda (30 min)\n",
    "\n",
    "[Use the model in Lambda](./lab4/Lab 4 - Use the model in Lambda.ipynb)\n",
    "\n",
    "[Web App to classify images using AWS Lambda](./lab4/lab4-webapp.ipynb)"
   ]
  },
  {
   "cell_type": "markdown",
   "metadata": {},
   "source": [
    "## Additional Lab Resource\n",
    "\n",
    "### [DeepTraffic](http://selfdrivingcars.mit.edu/deeptrafficjs/)\n",
    "### [A Neural Network Playground](http://playground.tensorflow.org)"
   ]
  }
 ],
 "metadata": {
  "kernelspec": {
   "display_name": "Python 3",
   "language": "python",
   "name": "python3"
  },
  "language_info": {
   "codemirror_mode": {
    "name": "ipython",
    "version": 3
   },
   "file_extension": ".py",
   "mimetype": "text/x-python",
   "name": "python",
   "nbconvert_exporter": "python",
   "pygments_lexer": "ipython3",
   "version": "3.4.3"
  }
 },
 "nbformat": 4,
 "nbformat_minor": 2
}
