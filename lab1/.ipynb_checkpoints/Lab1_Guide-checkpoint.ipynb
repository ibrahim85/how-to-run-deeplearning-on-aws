{
 "cells": [
  {
   "cell_type": "markdown",
   "metadata": {},
   "source": [
    "# Lab 1. Preparing DL environment"
   ]
  },
  {
   "cell_type": "markdown",
   "metadata": {},
   "source": [
    "Congratulations. You've setup a deep learning instance using Amazon deep learning AMI. (Ubuntu)\n",
    "Now, let's look around what is available in this deep learning AMI. This AMI are prebuilt with popular deep learning frameworks and also contain the Anaconda Platform (Python2 and Python3) Check what's inside in this AMI.\n",
    "\n",
    "<hr>\n",
    "\n",
    "#### Prebuilt Deep Learning Frameworks\n",
    "\n",
    "##### MXNET (http://mxnet.io/) : \n",
    "MXNet is a flexible, efficient, portable and scalable open source library for deep learning.\n",
    "It supports declarative and imperative programming models, across a wide variety of programming languages, making it powerful yet simple to code deep learning applications. MXNet is efficient, inherently supporting automatic parallel scheduling of portions of source code that can be parallelized over a distributed environment. MXNet is also portable, using memory optimizations that allow it to run on mobile phones to full servers.\n",
    "    * branch/tag used: v0.10.0 tag\n",
    "    * Justification: Stable and well tested\n",
    "    * Source_Directories: /home/ubuntu/src/mxnet\n",
    "\n",
    "##### Caffe (http://caffe.berkeleyvision.org/) :\n",
    "Caffe is a deep learning framework made with expression, speed, and modularity in mind. It is developed by the\n",
    "Berkeley Vision and Learning Center (BVLC) and by community contributors.\n",
    "    * branch/tag used: rc5 tag\n",
    "    * Justification: Supports cuda7.5 and cudnn 5.1\n",
    "    * Source_Directories: For Python2.7+ - /home/ubuntu/src/caffe\n",
    "                        : For Python3+ - /home/ubuntu/src/caffe3\n",
    "                        : For Anaconda Python2.7+ - /home/ubuntu/src/caffe_anaconda2\n",
    "                        : For Anaconda3 Python3+ - /home/ubuntu/src/caffe_anaconda3\n",
    "                        : For CPU_ONLY : /home/ubuntu/src/caffe_cpu\n",
    "\n",
    "##### Caffe2 (https://github.com/caffe2/caffe2) :\n",
    "Caffe2 is a cross-platform framework made with expression, speed, and modularity in mind.\n",
    "    * branch/tag used : v0.6.0 tag\n",
    "    * Justification : Pre-release\n",
    "    * NOTE: This is an experimental release and there may be some issues. Available for Python2.7 only\n",
    "    * Source_Directories: For Python2.7+ - /home/ubuntu/src/caffe2\n",
    "                        : For Anaconda Python2.7+ - /home/ubuntu/src/caffe2_anaconda2\n",
    "\n",
    "##### Theano (http://deeplearning.net/software/theano/) :\n",
    "Theano is a Python library that allows you to define, optimize, and evaluate mathematical expressions involving multi-dimensional arrays efficiently.\n",
    "    * branch/tag used: rel-0.9.0 tag\n",
    "    * Justification: Stable and well tested\n",
    "    * Source_Directories: /home/ubuntu/src/theano\n",
    "\n",
    "##### TensorFlow (https://www.tensorflow.org/) :\n",
    "TensorFlow is an open source software library for numerical computation using data flow graphs.\n",
    "    * branch/tag used : v1.1.0 tag\n",
    "    * Justification : Stable and well tested\n",
    "    * Source_Directories : For Python2.7+ - /home/ubuntu/src/tensorflow\n",
    "                         : For Python3+ - /home/ubuntu/src/tensorflow3\n",
    "                         : For Anaconda Python2.7+ - /home/ubuntu/src/tensorflow_anaconda\n",
    "                         : For Anaconda Python3+ - /home/ubuntu/src/tensorflow_anaconda3\n",
    "\n",
    "##### Torch (http://torch.ch/) :\n",
    "Torch is a scientific computing framework with wide support for machine learning algorithms that puts GPUs first. It is easy to use and efficient, thanks to an easy and fast scripting language, LuaJIT, and an underlying C/CUDA implementation.\n",
    "    * branch/tag used : master branch\n",
    "    * Justification : No other stable branch or tag available\n",
    "    * Source_Directories : /home/ubuntu/src/torch\n",
    "    \n",
    "##### CNTK (https://github.com/Microsoft/CNTK/) :\n",
    "Microsoft Cognitive Toolkit is a unified deep-learning toolkit by Microsoft Research.\n",
    "    * branch/tag used : v2.0.rc1 tag\n",
    "    * Justification : Latest release\n",
    "    * Source_Directories : /home/ubuntu/src/cntk\n",
    "    \n",
    "##### Keras (https://github.com/fchollet/keras) :\n",
    "Deep Learning Library for\n",
    " Python\n",
    "    * branch/tag used : 1.2.2 tag\n",
    "    * Justification : Stable release\n",
    "    * Source_Directories: /home/ubuntu/src/keras\n",
    "\n",
    "#### Python 2.7 and Python 3.5 Support\n",
    "\n",
    "Python2.7 and Python3.5 are supported in the AMI for the following Deep Learning Frameworks:\n",
    "1. Caffe\n",
    "2. Tensorflow\n",
    "3. Theano\n",
    "4. MXNet\n",
    "5. CNTK\n",
    "\n",
    "#### CPU Instance Type Support\n",
    "\n",
    "The AMI supports CPU Instance Types for all frameworks. MXNet is built with support for Intel MKL2017 DNN library support. If you want to use the caffe binary for the CPU instance, then you should use the binary inside /home/ubuntu/src/caffe_cpu/\n",
    "\n",
    "#### GPU Drivers Installed\n",
    "\n",
    "* CuDNN 5.1\n",
    "* Nvidia 367.57\n",
    "* CUDA 7.5\n",
    "\n",
    "<hr>\n",
    "\n",
    "We are focusing two key deep learning frameworks, MXNet and Tensorflow. Now, let's dive deep into these 2 popular deep learning frameworks.\n",
    "\n",
    "<hr>\n",
    "\n",
    "## MXNet\n",
    "\n",
    "<img src=\"mxnet_head.png\">\n",
    "\n",
    "MXNet is a deep learning framework designed for both efficiency and flexibility. It allows you to mix symbolic and imperative programming to maximize efficiency and productivity. As its core, MXNet contains a dynamic dependency scheduler that automatically parallelizes both symbolic and imperative operations on the fly. A graph optimization layer on top of that makes symbolic execution fast and memory efficient. MXNet is portable and lightweight, scaling effectively to multiple GPUs and multiple machines.\n",
    "\n",
    "MXNet is also more than a deep learning project. It is also a collection of blue prints and guidelines for building deep learning systems, and interesting insights of DL systems for hackers.\n",
    "\n",
    "### Features\n",
    "\n",
    "- Design notes providing useful insights that can re-used by other DL projects\n",
    "- Flexible configuration for arbitrary computation graph\n",
    "- Mix and match imperative and symbolic programming to maximize flexibility and efficiency\n",
    "- Lightweigh, memory efficient and portable to smart devices\n",
    "- Scales up to multi GPUs and distributed setting with auto parallelism\n",
    "- Support for Python, R, Scala, C++ and Julia\n",
    "- Cloud-friendly and directly compatible with S3, HDFS, and Azure\n",
    "\n",
    "### Check Version of MXNet"
   ]
  },
  {
   "cell_type": "code",
   "execution_count": 7,
   "metadata": {},
   "outputs": [
    {
     "name": "stdout",
     "output_type": "stream",
     "text": [
      "0.10.0\n"
     ]
    }
   ],
   "source": [
    "import mxnet as mx\n",
    "print (mx.__version__)"
   ]
  },
  {
   "cell_type": "markdown",
   "metadata": {},
   "source": [
    "As you can see above, the installed version is 0.10.0, the latest version.\n",
    "\n",
    "### NDArray\n",
    "\n",
    "Now, let's get into the mxnet in more detail. First of all, we need to understand core data structure of mxnet, NDArry. An NDArray represents a multidimensional, fixed-size homogenous array. mxnet.ndarray is similar to numpy.ndarray. \n",
    "\n",
    "Let's run the following simple python script."
   ]
  },
  {
   "cell_type": "code",
   "execution_count": 3,
   "metadata": {},
   "outputs": [
    {
     "data": {
      "text/plain": [
       "array([[  1.,   4.,   9.],\n",
       "       [  2.,   6.,  12.]], dtype=float32)"
      ]
     },
     "execution_count": 3,
     "metadata": {},
     "output_type": "execute_result"
    }
   ],
   "source": [
    "import mxnet as mx\n",
    "a = mx.nd.array([1,2,3])\n",
    "b = mx.nd.array([[1,2,3],[2,3,4]])\n",
    "c = a * b\n",
    "c.asnumpy()"
   ]
  },
  {
   "cell_type": "markdown",
   "metadata": {},
   "source": [
    "You can see how easy the matrix product can be caculated.\n",
    "\n",
    "### Symbol Composition\n",
    "\n",
    "We can execute a wide range of mathematical operations using NDArray by itself. In fact, we could define and update a full neural network just by using NDArray. But like other deep learning frameworks, MXNet provides the Symbol API, an interface for symbolic programming. With symbolic programming, rather than executing operations step by step, we first define a computation graph. This graph contains placeholders for inputs and designated outputs. We can then compile the graph, yielding a function that can be bound to NDArrays and run.\n",
    "\n",
    "Another advantage conferred by symbolic approach is that we can optimize our functions before using them. For example, when we execute mathematical computations in imperative fashion, we don’t know at the time that we run each operation, which values will be needed later on. But with symbolic programming, we declare the required outputs in advance. This means that we can recycle memory allocated in intermediate steps, as by performing operations in place.\n",
    "\n",
    "#### MXNet System Architecture\n",
    "<img src=\"https://raw.githubusercontent.com/dmlc/dmlc.github.io/master/img/mxnet/system/overview.png\">\n",
    "\n",
    "\n",
    "\n",
    "Let's review the following sample code"
   ]
  },
  {
   "cell_type": "code",
   "execution_count": 14,
   "metadata": {},
   "outputs": [
    {
     "data": {
      "image/svg+xml": [
       "<?xml version=\"1.0\" encoding=\"UTF-8\" standalone=\"no\"?>\n",
       "<!DOCTYPE svg PUBLIC \"-//W3C//DTD SVG 1.1//EN\"\n",
       " \"http://www.w3.org/Graphics/SVG/1.1/DTD/svg11.dtd\">\n",
       "<!-- Generated by graphviz version 2.36.0 (20140111.2315)\n",
       " -->\n",
       "<!-- Title: plot Pages: 1 -->\n",
       "<svg width=\"214pt\" height=\"442pt\"\n",
       " viewBox=\"0.00 0.00 214.00 442.00\" xmlns=\"http://www.w3.org/2000/svg\" xmlns:xlink=\"http://www.w3.org/1999/xlink\">\n",
       "<g id=\"graph0\" class=\"graph\" transform=\"scale(1 1) rotate(0) translate(4 438)\">\n",
       "<title>plot</title>\n",
       "<polygon fill=\"white\" stroke=\"none\" points=\"-4,4 -4,-438 210,-438 210,4 -4,4\"/>\n",
       "<!-- a -->\n",
       "<g id=\"node1\" class=\"node\"><title>a</title>\n",
       "<ellipse fill=\"#8dd3c7\" stroke=\"black\" cx=\"47\" cy=\"-29\" rx=\"47\" ry=\"29\"/>\n",
       "<text text-anchor=\"middle\" x=\"47\" y=\"-25.3\" font-family=\"Times,serif\" font-size=\"14.00\">a</text>\n",
       "</g>\n",
       "<!-- b -->\n",
       "<g id=\"node2\" class=\"node\"><title>b</title>\n",
       "<ellipse fill=\"#8dd3c7\" stroke=\"black\" cx=\"159\" cy=\"-29\" rx=\"47\" ry=\"29\"/>\n",
       "<text text-anchor=\"middle\" x=\"159\" y=\"-25.3\" font-family=\"Times,serif\" font-size=\"14.00\">b</text>\n",
       "</g>\n",
       "<!-- _mul0 -->\n",
       "<g id=\"node3\" class=\"node\"><title>_mul0</title>\n",
       "<polygon fill=\"#fccde5\" stroke=\"black\" points=\"94,-152 -7.10543e-15,-152 -7.10543e-15,-94 94,-94 94,-152\"/>\n",
       "<text text-anchor=\"middle\" x=\"47\" y=\"-119.3\" font-family=\"Times,serif\" font-size=\"14.00\">_mul0</text>\n",
       "</g>\n",
       "<!-- _mul0&#45;&gt;a -->\n",
       "<g id=\"edge1\" class=\"edge\"><title>_mul0&#45;&gt;a</title>\n",
       "<path fill=\"none\" stroke=\"black\" d=\"M47,-83.7443C47,-75.2043 47,-66.2977 47,-58.2479\"/>\n",
       "<polygon fill=\"black\" stroke=\"black\" points=\"47,-93.8971 42.5001,-83.897 47,-88.8971 47.0001,-83.8971 47.0001,-83.8971 47.0001,-83.8971 47,-88.8971 51.5001,-83.8971 47,-93.8971 47,-93.8971\"/>\n",
       "</g>\n",
       "<!-- _mul0&#45;&gt;b -->\n",
       "<g id=\"edge2\" class=\"edge\"><title>_mul0&#45;&gt;b</title>\n",
       "<path fill=\"none\" stroke=\"black\" d=\"M89.3281,-87.2305C103.403,-75.6693 118.704,-63.1001 131.373,-52.6936\"/>\n",
       "<polygon fill=\"black\" stroke=\"black\" points=\"81.2123,-93.8971 86.0832,-84.0724 85.0759,-90.7234 88.9395,-87.5496 88.9395,-87.5496 88.9395,-87.5496 85.0759,-90.7234 91.7959,-91.0269 81.2123,-93.8971 81.2123,-93.8971\"/>\n",
       "</g>\n",
       "<!-- dot0 -->\n",
       "<g id=\"node4\" class=\"node\"><title>dot0</title>\n",
       "<polygon fill=\"#fccde5\" stroke=\"black\" points=\"206,-152 112,-152 112,-94 206,-94 206,-152\"/>\n",
       "<text text-anchor=\"middle\" x=\"159\" y=\"-119.3\" font-family=\"Times,serif\" font-size=\"14.00\">dot0</text>\n",
       "</g>\n",
       "<!-- dot0&#45;&gt;a -->\n",
       "<g id=\"edge3\" class=\"edge\"><title>dot0&#45;&gt;a</title>\n",
       "<path fill=\"none\" stroke=\"black\" d=\"M116.672,-87.2305C102.597,-75.6693 87.2958,-63.1001 74.627,-52.6936\"/>\n",
       "<polygon fill=\"black\" stroke=\"black\" points=\"124.788,-93.8971 114.204,-91.0269 120.924,-90.7234 117.06,-87.5496 117.06,-87.5496 117.06,-87.5496 120.924,-90.7234 119.917,-84.0724 124.788,-93.8971 124.788,-93.8971\"/>\n",
       "</g>\n",
       "<!-- dot0&#45;&gt;b -->\n",
       "<g id=\"edge4\" class=\"edge\"><title>dot0&#45;&gt;b</title>\n",
       "<path fill=\"none\" stroke=\"black\" d=\"M159,-83.7443C159,-75.2043 159,-66.2977 159,-58.2479\"/>\n",
       "<polygon fill=\"black\" stroke=\"black\" points=\"159,-93.8971 154.5,-83.897 159,-88.8971 159,-83.8971 159,-83.8971 159,-83.8971 159,-88.8971 163.5,-83.8971 159,-93.8971 159,-93.8971\"/>\n",
       "</g>\n",
       "<!-- _plus2 -->\n",
       "<g id=\"node5\" class=\"node\"><title>_plus2</title>\n",
       "<polygon fill=\"#fccde5\" stroke=\"black\" points=\"150,-246 56,-246 56,-188 150,-188 150,-246\"/>\n",
       "<text text-anchor=\"middle\" x=\"103\" y=\"-213.3\" font-family=\"Times,serif\" font-size=\"14.00\">_plus2</text>\n",
       "</g>\n",
       "<!-- _plus2&#45;&gt;_mul0 -->\n",
       "<g id=\"edge5\" class=\"edge\"><title>_plus2&#45;&gt;_mul0</title>\n",
       "<path fill=\"none\" stroke=\"black\" d=\"M80.5686,-179.148C75.113,-170.186 69.3635,-160.74 64.1943,-152.248\"/>\n",
       "<polygon fill=\"black\" stroke=\"black\" points=\"85.8939,-187.897 76.8505,-181.695 83.2941,-183.626 80.6944,-179.355 80.6944,-179.355 80.6944,-179.355 83.2941,-183.626 84.5383,-177.015 85.8939,-187.897 85.8939,-187.897\"/>\n",
       "</g>\n",
       "<!-- _plus2&#45;&gt;dot0 -->\n",
       "<g id=\"edge6\" class=\"edge\"><title>_plus2&#45;&gt;dot0</title>\n",
       "<path fill=\"none\" stroke=\"black\" d=\"M125.431,-179.148C130.887,-170.186 136.637,-160.74 141.806,-152.248\"/>\n",
       "<polygon fill=\"black\" stroke=\"black\" points=\"120.106,-187.897 121.462,-177.015 122.706,-183.626 125.306,-179.355 125.306,-179.355 125.306,-179.355 122.706,-183.626 129.15,-181.695 120.106,-187.897 120.106,-187.897\"/>\n",
       "</g>\n",
       "<!-- reshape0 -->\n",
       "<g id=\"node6\" class=\"node\"><title>reshape0</title>\n",
       "<polygon fill=\"#fdb462\" stroke=\"black\" points=\"150,-340 56,-340 56,-282 150,-282 150,-340\"/>\n",
       "<text text-anchor=\"middle\" x=\"103\" y=\"-307.3\" font-family=\"Times,serif\" font-size=\"14.00\">reshape0</text>\n",
       "</g>\n",
       "<!-- reshape0&#45;&gt;_plus2 -->\n",
       "<g id=\"edge7\" class=\"edge\"><title>reshape0&#45;&gt;_plus2</title>\n",
       "<path fill=\"none\" stroke=\"black\" d=\"M103,-271.744C103,-263.204 103,-254.298 103,-246.248\"/>\n",
       "<polygon fill=\"black\" stroke=\"black\" points=\"103,-281.897 98.5001,-271.897 103,-276.897 103,-271.897 103,-271.897 103,-271.897 103,-276.897 107.5,-271.897 103,-281.897 103,-281.897\"/>\n",
       "</g>\n",
       "<!-- broadcast_to0 -->\n",
       "<g id=\"node7\" class=\"node\"><title>broadcast_to0</title>\n",
       "<polygon fill=\"#fccde5\" stroke=\"black\" points=\"150,-434 56,-434 56,-376 150,-376 150,-434\"/>\n",
       "<text text-anchor=\"middle\" x=\"103\" y=\"-401.3\" font-family=\"Times,serif\" font-size=\"14.00\">broadcast_to0</text>\n",
       "</g>\n",
       "<!-- broadcast_to0&#45;&gt;reshape0 -->\n",
       "<g id=\"edge8\" class=\"edge\"><title>broadcast_to0&#45;&gt;reshape0</title>\n",
       "<path fill=\"none\" stroke=\"black\" d=\"M103,-365.744C103,-357.204 103,-348.298 103,-340.248\"/>\n",
       "<polygon fill=\"black\" stroke=\"black\" points=\"103,-375.897 98.5001,-365.897 103,-370.897 103,-365.897 103,-365.897 103,-365.897 103,-370.897 107.5,-365.897 103,-375.897 103,-375.897\"/>\n",
       "</g>\n",
       "</g>\n",
       "</svg>\n"
      ],
      "text/plain": [
       "<graphviz.dot.Digraph at 0x7ff3bc699a10>"
      ]
     },
     "execution_count": 14,
     "metadata": {},
     "output_type": "execute_result"
    }
   ],
   "source": [
    "import mxnet as mx\n",
    "a = mx.sym.Variable('a')\n",
    "b = mx.sym.Variable('b')\n",
    "c = a + b\n",
    "(a, b, c)\n",
    "# elemental wise multiplication\n",
    "d = a * b\n",
    "# matrix multiplication\n",
    "e = mx.sym.dot(a, b)\n",
    "# reshape\n",
    "f = mx.sym.reshape(d+e, shape=(1,4))\n",
    "# broadcast\n",
    "g = mx.sym.broadcast_to(f, shape=(2,4))\n",
    "# plot\n",
    "mx.viz.plot_network(symbol=g)"
   ]
  },
  {
   "cell_type": "markdown",
   "metadata": {},
   "source": [
    "NDArrays are defined as placeholders, and all the operations will be parallelized on the fly. A graph optimization layer makes symbolic execution fast and memory efficient.\n",
    "\n",
    "Now, Let's build a basic neural networks. The following example constructs a two layer fully connected neural network and then visualizes the structure of that network given the input data shape."
   ]
  },
  {
   "cell_type": "code",
   "execution_count": 17,
   "metadata": {},
   "outputs": [
    {
     "data": {
      "image/svg+xml": [
       "<?xml version=\"1.0\" encoding=\"UTF-8\" standalone=\"no\"?>\n",
       "<!DOCTYPE svg PUBLIC \"-//W3C//DTD SVG 1.1//EN\"\n",
       " \"http://www.w3.org/Graphics/SVG/1.1/DTD/svg11.dtd\">\n",
       "<!-- Generated by graphviz version 2.36.0 (20140111.2315)\n",
       " -->\n",
       "<!-- Title: plot Pages: 1 -->\n",
       "<svg width=\"214pt\" height=\"506pt\"\n",
       " viewBox=\"0.00 0.00 214.00 506.00\" xmlns=\"http://www.w3.org/2000/svg\" xmlns:xlink=\"http://www.w3.org/1999/xlink\">\n",
       "<g id=\"graph0\" class=\"graph\" transform=\"scale(1 1) rotate(0) translate(4 502)\">\n",
       "<title>plot</title>\n",
       "<polygon fill=\"white\" stroke=\"none\" points=\"-4,4 -4,-502 210,-502 210,4 -4,4\"/>\n",
       "<!-- data -->\n",
       "<g id=\"node1\" class=\"node\"><title>data</title>\n",
       "<ellipse fill=\"#8dd3c7\" stroke=\"black\" cx=\"47\" cy=\"-29\" rx=\"47\" ry=\"29\"/>\n",
       "<text text-anchor=\"middle\" x=\"47\" y=\"-25.3\" font-family=\"Times,serif\" font-size=\"14.00\">data</text>\n",
       "</g>\n",
       "<!-- fc1 -->\n",
       "<g id=\"node2\" class=\"node\"><title>fc1</title>\n",
       "<polygon fill=\"#fb8072\" stroke=\"black\" points=\"94,-168 -7.10543e-15,-168 -7.10543e-15,-110 94,-110 94,-168\"/>\n",
       "<text text-anchor=\"middle\" x=\"47\" y=\"-142.8\" font-family=\"Times,serif\" font-size=\"14.00\">FullyConnected</text>\n",
       "<text text-anchor=\"middle\" x=\"47\" y=\"-127.8\" font-family=\"Times,serif\" font-size=\"14.00\">128</text>\n",
       "</g>\n",
       "<!-- fc1&#45;&gt;data -->\n",
       "<g id=\"edge1\" class=\"edge\"><title>fc1&#45;&gt;data</title>\n",
       "<path fill=\"none\" stroke=\"black\" d=\"M47,-99.8131C47,-86.1516 47,-71.0092 47,-58.3283\"/>\n",
       "<polygon fill=\"black\" stroke=\"black\" points=\"47,-109.906 42.5001,-99.9062 47,-104.906 47.0001,-99.9062 47.0001,-99.9062 47.0001,-99.9062 47,-104.906 51.5001,-99.9062 47,-109.906 47,-109.906\"/>\n",
       "<text text-anchor=\"middle\" x=\"57.5\" y=\"-80.3\" font-family=\"Times,serif\" font-size=\"14.00\">200</text>\n",
       "</g>\n",
       "<!-- relu1 -->\n",
       "<g id=\"node3\" class=\"node\"><title>relu1</title>\n",
       "<polygon fill=\"#ffffb3\" stroke=\"black\" points=\"94,-278 -7.10543e-15,-278 -7.10543e-15,-220 94,-220 94,-278\"/>\n",
       "<text text-anchor=\"middle\" x=\"47\" y=\"-252.8\" font-family=\"Times,serif\" font-size=\"14.00\">Activation</text>\n",
       "<text text-anchor=\"middle\" x=\"47\" y=\"-237.8\" font-family=\"Times,serif\" font-size=\"14.00\">relu</text>\n",
       "</g>\n",
       "<!-- relu1&#45;&gt;fc1 -->\n",
       "<g id=\"edge2\" class=\"edge\"><title>relu1&#45;&gt;fc1</title>\n",
       "<path fill=\"none\" stroke=\"black\" d=\"M47,-209.813C47,-196.152 47,-181.009 47,-168.328\"/>\n",
       "<polygon fill=\"black\" stroke=\"black\" points=\"47,-219.906 42.5001,-209.906 47,-214.906 47.0001,-209.906 47.0001,-209.906 47.0001,-209.906 47,-214.906 51.5001,-209.906 47,-219.906 47,-219.906\"/>\n",
       "<text text-anchor=\"middle\" x=\"57.5\" y=\"-190.3\" font-family=\"Times,serif\" font-size=\"14.00\">128</text>\n",
       "</g>\n",
       "<!-- fc2 -->\n",
       "<g id=\"node4\" class=\"node\"><title>fc2</title>\n",
       "<polygon fill=\"#fb8072\" stroke=\"black\" points=\"94,-388 -7.10543e-15,-388 -7.10543e-15,-330 94,-330 94,-388\"/>\n",
       "<text text-anchor=\"middle\" x=\"47\" y=\"-362.8\" font-family=\"Times,serif\" font-size=\"14.00\">FullyConnected</text>\n",
       "<text text-anchor=\"middle\" x=\"47\" y=\"-347.8\" font-family=\"Times,serif\" font-size=\"14.00\">10</text>\n",
       "</g>\n",
       "<!-- fc2&#45;&gt;relu1 -->\n",
       "<g id=\"edge3\" class=\"edge\"><title>fc2&#45;&gt;relu1</title>\n",
       "<path fill=\"none\" stroke=\"black\" d=\"M47,-319.813C47,-306.152 47,-291.009 47,-278.328\"/>\n",
       "<polygon fill=\"black\" stroke=\"black\" points=\"47,-329.906 42.5001,-319.906 47,-324.906 47.0001,-319.906 47.0001,-319.906 47.0001,-319.906 47,-324.906 51.5001,-319.906 47,-329.906 47,-329.906\"/>\n",
       "<text text-anchor=\"middle\" x=\"57.5\" y=\"-300.3\" font-family=\"Times,serif\" font-size=\"14.00\">128</text>\n",
       "</g>\n",
       "<!-- out_label -->\n",
       "<g id=\"node5\" class=\"node\"><title>out_label</title>\n",
       "<ellipse fill=\"#8dd3c7\" stroke=\"black\" cx=\"159\" cy=\"-359\" rx=\"47\" ry=\"29\"/>\n",
       "<text text-anchor=\"middle\" x=\"159\" y=\"-355.3\" font-family=\"Times,serif\" font-size=\"14.00\">out_label</text>\n",
       "</g>\n",
       "<!-- out -->\n",
       "<g id=\"node6\" class=\"node\"><title>out</title>\n",
       "<polygon fill=\"#fccde5\" stroke=\"black\" points=\"170,-498 76,-498 76,-440 170,-440 170,-498\"/>\n",
       "<text text-anchor=\"middle\" x=\"123\" y=\"-465.3\" font-family=\"Times,serif\" font-size=\"14.00\">out</text>\n",
       "</g>\n",
       "<!-- out&#45;&gt;fc2 -->\n",
       "<g id=\"edge4\" class=\"edge\"><title>out&#45;&gt;fc2</title>\n",
       "<path fill=\"none\" stroke=\"black\" d=\"M97.2538,-431.413C87.3525,-417.343 76.2083,-401.506 66.9347,-388.328\"/>\n",
       "<polygon fill=\"black\" stroke=\"black\" points=\"103.23,-439.906 93.7952,-434.318 100.353,-435.817 97.4753,-431.728 97.4753,-431.728 97.4753,-431.728 100.353,-435.817 101.155,-429.138 103.23,-439.906 103.23,-439.906\"/>\n",
       "<text text-anchor=\"middle\" x=\"97\" y=\"-410.3\" font-family=\"Times,serif\" font-size=\"14.00\">10</text>\n",
       "</g>\n",
       "<!-- out&#45;&gt;out_label -->\n",
       "<g id=\"edge5\" class=\"edge\"><title>out&#45;&gt;out_label</title>\n",
       "<path fill=\"none\" stroke=\"black\" d=\"M135.648,-430.057C140.313,-416.062 145.505,-400.485 149.807,-387.579\"/>\n",
       "<polygon fill=\"black\" stroke=\"black\" points=\"132.365,-439.906 131.258,-428.996 133.946,-435.163 135.527,-430.419 135.527,-430.419 135.527,-430.419 133.946,-435.163 139.796,-431.842 132.365,-439.906 132.365,-439.906\"/>\n",
       "</g>\n",
       "</g>\n",
       "</svg>\n"
      ],
      "text/plain": [
       "<graphviz.dot.Digraph at 0x7ff3bc6998d0>"
      ]
     },
     "execution_count": 17,
     "metadata": {},
     "output_type": "execute_result"
    }
   ],
   "source": [
    "import mxnet as mx\n",
    "net = mx.sym.Variable('data')\n",
    "net = mx.sym.FullyConnected(data=net, name='fc1', num_hidden=128)\n",
    "net = mx.sym.Activation(data=net, name='relu1', act_type=\"relu\")\n",
    "net = mx.sym.FullyConnected(data=net, name='fc2', num_hidden=10)\n",
    "net = mx.sym.SoftmaxOutput(data=net, name='out')\n",
    "mx.viz.plot_network(net, shape={'data':(100,200)})\n"
   ]
  },
  {
   "cell_type": "markdown",
   "metadata": {},
   "source": [
    "Each symbol takes a (unique) string name. NDArray and Symbol both represent a single tensor. Operators represent the computation between tensors. Operators take symbol (or NDArray) as inputs and might also additionally accept other hyperparameters such as the number of hidden neurons (num_hidden) or the activation type (act_type) and produce the output.\n",
    "\n",
    "You can retrieve arguments with the method call, 'net.list_arguments()'. Let's check with the following sample code."
   ]
  },
  {
   "cell_type": "code",
   "execution_count": 18,
   "metadata": {},
   "outputs": [
    {
     "data": {
      "text/plain": [
       "['data', 'fc1_weight', 'fc1_bias', 'fc2_weight', 'fc2_bias', 'out_label']"
      ]
     },
     "execution_count": 18,
     "metadata": {},
     "output_type": "execute_result"
    }
   ],
   "source": [
    "import mxnet as mx\n",
    "net = mx.sym.Variable('data')\n",
    "net = mx.sym.FullyConnected(data=net, name='fc1', num_hidden=128)\n",
    "net = mx.sym.Activation(data=net, name='relu1', act_type=\"relu\")\n",
    "net = mx.sym.FullyConnected(data=net, name='fc2', num_hidden=10)\n",
    "net = mx.sym.SoftmaxOutput(data=net, name='out')\n",
    "net.list_arguments()"
   ]
  },
  {
   "cell_type": "markdown",
   "metadata": {},
   "source": [
    "## TensorFlow\n",
    "\n",
    "TensorFlow™ is an open source software library for numerical computation using data flow graphs. Nodes in the graph represent mathematical operations, while the graph edges represent the multidimensional data arrays (tensors) communicated between them. The flexible architecture allows you to deploy computation to one or more CPUs or GPUs in a desktop, server, or mobile device with a single API. TensorFlow was originally developed by researchers and engineers working on the Google Brain Team within Google's Machine Intelligence research organization for the purposes of conducting machine learning and deep neural networks research, but the system is general enough to be applicable in a wide variety of other domains as well.\n",
    "\n",
    "### Check version of TensorFlow"
   ]
  },
  {
   "cell_type": "code",
   "execution_count": 8,
   "metadata": {},
   "outputs": [
    {
     "name": "stdout",
     "output_type": "stream",
     "text": [
      "1.1.0\n"
     ]
    }
   ],
   "source": [
    "import tensorflow as tf\n",
    "print (tf.__version__)"
   ]
  },
  {
   "cell_type": "markdown",
   "metadata": {},
   "source": [
    "Tensorflow 1.1.0 is not a latest version. You can optionally upgrade tensorflow version manually.\n",
    "\n",
    "### Hello World Program of TensorFlow"
   ]
  },
  {
   "cell_type": "code",
   "execution_count": 9,
   "metadata": {},
   "outputs": [
    {
     "name": "stdout",
     "output_type": "stream",
     "text": [
      "Hello, TensorFlow!\n"
     ]
    }
   ],
   "source": [
    "from __future__ import print_function\n",
    "\n",
    "import tensorflow as tf\n",
    "\n",
    "# Simple hello world using TensorFlow\n",
    "\n",
    "# Create a Constant op\n",
    "# The op is added as a node to the default graph.\n",
    "#\n",
    "# The value returned by the constructor represents the output\n",
    "# of the Constant op.\n",
    "hello = tf.constant('Hello, TensorFlow!')\n",
    "\n",
    "# Start tf session\n",
    "sess = tf.Session()\n",
    "\n",
    "# Run the op\n",
    "print(sess.run(hello))"
   ]
  },
  {
   "cell_type": "markdown",
   "metadata": {},
   "source": [
    "### Tensor\n",
    "\n",
    "The central unit of data in TensorFlow is the tensor. A tensor consists of primitive values shaped into an array of any number of dimensions (much like the NDArrray!). A tensor's rank is its number of dimensions.\n",
    "\n",
    "3 # a rank 0 tensor; this is a scalar with shape [] <br>\n",
    "[1., 2., 3.] # a rank 1 tensor; this is a vector with shape [3] <br>\n",
    "[[1.,2.,3.], [4.,5.,6.]] # a rank 2 tensor; a matrix with shape [2,3] <br>\n",
    "[[[1.,2.,3.]], [[7.,8.,9.]]] # a rank 3 tensor with shape [2,1,3]<br>\n",
    "\n",
    "### The Computational Graph\n",
    "\n",
    "TensorFlow Core programs consist of two discrete sections :\n",
    "\n",
    "1. Building the computational graph\n",
    "2. Running the computational graph\n",
    "\n",
    "A computational graph is a series of TensorFlow operations arranged into a graph of nodes. Let's build a simple computational graph. Each node takes zero or more tensors as inputs and produces a tensor as an output. One type of node is a constant."
   ]
  },
  {
   "cell_type": "code",
   "execution_count": 10,
   "metadata": {},
   "outputs": [
    {
     "name": "stdout",
     "output_type": "stream",
     "text": [
      "Tensor(\"Const_1:0\", shape=(), dtype=float32) Tensor(\"Const_2:0\", shape=(), dtype=float32)\n"
     ]
    }
   ],
   "source": [
    "import tensorflow as tf\n",
    "\n",
    "node1 = tf.constant(3.0, dtype=tf.float32)\n",
    "node2 = tf.constant(4.0) # also tf.float32 implicitly\n",
    "print(node1, node2)"
   ]
  },
  {
   "cell_type": "markdown",
   "metadata": {},
   "source": [
    "Notice that output values for each node is not 3.0 and 4.0. \n",
    "\n",
    "### Session\n",
    "\n",
    "To actually evaluate the nodes, we must run the computational graph within a session. A session encapsulates the control and state of the TensorFlow runtime."
   ]
  },
  {
   "cell_type": "code",
   "execution_count": 11,
   "metadata": {},
   "outputs": [
    {
     "name": "stdout",
     "output_type": "stream",
     "text": [
      "Tensor(\"Const_3:0\", shape=(), dtype=float32) Tensor(\"Const_4:0\", shape=(), dtype=float32)\n",
      "[3.0, 4.0]\n"
     ]
    }
   ],
   "source": [
    "import tensorflow as tf\n",
    "\n",
    "node1 = tf.constant(3.0, dtype=tf.float32)\n",
    "node2 = tf.constant(4.0) # also tf.float32 implicitly\n",
    "print(node1, node2)\n",
    "sess = tf.Session()\n",
    "print(sess.run([node1, node2]))"
   ]
  },
  {
   "cell_type": "markdown",
   "metadata": {},
   "source": [
    "We can build more complicated computations by combining Tensor nodes with operations (Operations are also nodes). For example, we can add our two constant nodes and produce a new graph as follows."
   ]
  },
  {
   "cell_type": "code",
   "execution_count": 12,
   "metadata": {},
   "outputs": [
    {
     "name": "stdout",
     "output_type": "stream",
     "text": [
      "node3:  Tensor(\"Add:0\", shape=(), dtype=float32)\n",
      "sess.run(node3):  7.0\n"
     ]
    }
   ],
   "source": [
    "import tensorflow as tf\n",
    "\n",
    "node1 = tf.constant(3.0, dtype=tf.float32)\n",
    "node2 = tf.constant(4.0) # also tf.float32 implicitly\n",
    "node3 = tf.add(node1, node2)\n",
    "print(\"node3: \", node3)\n",
    "print(\"sess.run(node3): \",sess.run(node3))"
   ]
  },
  {
   "cell_type": "markdown",
   "metadata": {},
   "source": [
    "Are you interested in TensorFlow? Please check the 'Getting Started' page, https://www.tensorflow.org/get_started/get_started."
   ]
  }
 ],
 "metadata": {
  "kernelspec": {
   "display_name": "Python 3",
   "language": "python",
   "name": "python3"
  },
  "language_info": {
   "codemirror_mode": {
    "name": "ipython",
    "version": 2
   },
   "file_extension": ".py",
   "mimetype": "text/x-python",
   "name": "python",
   "nbconvert_exporter": "python",
   "pygments_lexer": "ipython2",
   "version": "2.7.6"
  }
 },
 "nbformat": 4,
 "nbformat_minor": 2
}
