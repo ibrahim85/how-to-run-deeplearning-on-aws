{
 "cells": [
  {
   "cell_type": "markdown",
   "metadata": {},
   "source": [
    "# Web Front-end on S3 for MXNet on Lambda\n",
    "\n",
    "\n",
    "### 1. Move to lab4 directory\n",
    "\n",
    "```\n",
    "$ cd lab4\n",
    "```"
   ]
  },
  {
   "cell_type": "markdown",
   "metadata": {},
   "source": [
    "### 2. Create a CloudFormation Stack from the template (cfn_template.json : You can find the template on lab4 folder)\n",
    "\t\n",
    "<img src='./diagram_cfn.png' width=400>"
   ]
  },
  {
   "cell_type": "markdown",
   "metadata": {},
   "source": [
    "### 3. Note all the stack output.\n",
    "\n",
    "**Example**\n",
    "\n",
    " Key | Value | Description     \n",
    " :---: | :---: | :---:\n",
    " WebsiteURL | http://mxnet-hosting-tokfx9gcrb3y.s3-website.ap-northeast-2.amazonaws.com | URL for website hosted on S3\n",
    " IdentityPoolId   | ap-northeast-2:2463aef6-5c7a-41bb-832a-e5b814402981                                                    | IdentityPool ID\n",
    " UploadBucketName | mxnet-s3upload-1u37l1aoo7ubf                                                                           | Name of S3 bucket to upload images"
   ]
  },
  {
   "cell_type": "markdown",
   "metadata": {},
   "source": [
    "### 4. Modify js/config.js using stack output\n",
    "\n",
    "```\n",
    "...\n",
    "region: 'ap-northeast-2',\t\n",
    "//region you selected\n",
    "upload_bucket_name: 'mxnet-s3upload-1u37l1aoo7ubf',\n",
    "// Cfn OutPut : UploadBucketName\t\n",
    "identity_pool_id: 'ap-northeast-2:2463aef6-5c7a-41bb-832a-e5b814402981',\n",
    "// Cfn(current stack) OutPut : UploadBucketName\n",
    "predict_url: \"https://jz9oyh7050.execute-api.ap-northeast-2.amazonaws.com/prod/mxnet-lambda-v2\"\n",
    "//mxnet-lambda URL\n",
    "...\n",
    "``` "
   ]
  },
  {
   "cell_type": "markdown",
   "metadata": {},
   "source": [
    "### 5. Deploy static files to s3\n",
    "  \t\n",
    "```\t\n",
    "$ aws s3 cp client/ s3://mxnet-hosting-tokfx9gcrb3y --recursive --acl public-read\n",
    "```"
   ]
  },
  {
   "cell_type": "markdown",
   "metadata": {},
   "source": [
    "### 6. All Done!  "
   ]
  }
 ],
 "metadata": {
  "kernelspec": {
   "display_name": "Python 3",
   "language": "python",
   "name": "python3"
  },
  "language_info": {
   "codemirror_mode": {
    "name": "ipython",
    "version": 3
   },
   "file_extension": ".py",
   "mimetype": "text/x-python",
   "name": "python",
   "nbconvert_exporter": "python",
   "pygments_lexer": "ipython3",
   "version": "3.4.3"
  }
 },
 "nbformat": 4,
 "nbformat_minor": 2
}
