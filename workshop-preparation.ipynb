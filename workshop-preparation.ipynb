{
 "cells": [
  {
   "cell_type": "markdown",
   "metadata": {},
   "source": [
    "# Workshop Preparation"
   ]
  },
  {
   "cell_type": "markdown",
   "metadata": {},
   "source": [
    "## SSH into EC2 instance installed using Deep Learning AMI\n",
    "\n",
    "> **NOTE** Use us-west-2 region and use C4 instance type\n",
    "\n",
    "You need to use -L option of SSH for port forwarding, which is needed to access jupyter notebook from the local PC.\n",
    "\n",
    "```\n",
    "$ ssh -i ./<key file name> -L 8157:localhost:8888 ubuntu@<ec2 public IP address>\n",
    "```"
   ]
  },
  {
   "cell_type": "markdown",
   "metadata": {},
   "source": [
    "## Clone CodeCommit repository\n",
    "\n",
    "### Config AWS credential for CodeCommit\n",
    "\n",
    "```\n",
    "$ aws configure --profile dl\n",
    "$ export AWS_DEFAULT_PROFILE=dl\n",
    "```\n",
    "\n",
    "> Access Key: XXXXX\n",
    ">\n",
    "> Secret Key: XXXXX\n",
    "\n",
    "or \n",
    "\n",
    "> User name : dl-workshop-codecommit-reader-at-850550765017\n",
    ">\n",
    "> Password : CjHeocwwegvytReroAKC27xGfS6HP1ccB+u01hiiaL4= \n",
    "\n",
    "### Config CodeCommit access\n",
    "\n",
    "```\n",
    "$ git config --global credential.helper '!aws --profile dl credential-helper $@'\n",
    "$ git config --global credential.UseHttpPath true\n",
    "```\n",
    "\n",
    "### Clone the repository\n",
    "\n",
    "```\n",
    "$ cd ~\n",
    "$ mkdir workshop\n",
    "$ cd workshop\n",
    "$ git clone https://git-codecommit.ap-northeast-2.amazonaws.com/v1/repos/deeplearning\n",
    "```"
   ]
  },
  {
   "cell_type": "markdown",
   "metadata": {},
   "source": [
    "## Accessing jupyter notebook\n",
    "\n",
    "### Start jupyter notebook process\n",
    "\n",
    "```\n",
    "$ cd deeplearning\n",
    "$ jupyter notebook &\n",
    "```\n",
    "\n",
    "### Open jupyter notebook in your web browser\n",
    "\n",
    "* Open http://localhost:8157 and enter the token value returned from the previous command execution.\n",
    "* Open ./lab-notebook-list.ipynb notebook which has links to each lab notebook"
   ]
  }
 ],
 "metadata": {
  "kernelspec": {
   "display_name": "Python 3",
   "language": "python",
   "name": "python3"
  },
  "language_info": {
   "codemirror_mode": {
    "name": "ipython",
    "version": 3
   },
   "file_extension": ".py",
   "mimetype": "text/x-python",
   "name": "python",
   "nbconvert_exporter": "python",
   "pygments_lexer": "ipython3",
   "version": "3.4.3"
  }
 },
 "nbformat": 4,
 "nbformat_minor": 2
}
