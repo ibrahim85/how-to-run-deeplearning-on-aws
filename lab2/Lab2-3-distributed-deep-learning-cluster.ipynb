{
 "cells": [
  {
   "cell_type": "markdown",
   "metadata": {},
   "source": [
    "# Lab 2-3. Setting up a distributed deep learning environment\n",
    "\n",
    "To prepare the next lab, we need to deploy a distributed deep learning environment. The overall architecture is as follows :\n",
    "\n",
    "<img src=\"https://github.com/awslabs/deeplearning-cfn/blob/master/images/Slide0.png?raw=true\">\n",
    "\n"
   ]
  },
  {
   "cell_type": "markdown",
   "metadata": {},
   "source": [
    "The CloudFormation Template & detailed instruction can be found at : https://github.com/awslabs/deeplearning-cfn/tree/master/cfn-template. You can use <b>deeplearning.template</b> as a CloudFormation template, and please refer to <b>StackSetup.md</b> for detailed instruction.\n",
    "\n",
    "Congratulations. You completed lab2."
   ]
  }
 ],
 "metadata": {
  "kernelspec": {
   "display_name": "Python 3",
   "language": "python",
   "name": "python3"
  },
  "language_info": {
   "codemirror_mode": {
    "name": "ipython",
    "version": 3
   },
   "file_extension": ".py",
   "mimetype": "text/x-python",
   "name": "python",
   "nbconvert_exporter": "python",
   "pygments_lexer": "ipython3",
   "version": "3.4.3"
  }
 },
 "nbformat": 4,
 "nbformat_minor": 2
}
